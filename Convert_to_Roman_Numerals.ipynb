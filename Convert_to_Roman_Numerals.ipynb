{
 "cells": [
  {
   "cell_type": "code",
   "execution_count": 57,
   "metadata": {},
   "outputs": [],
   "source": [
    "num_map = [(1000, 'M'), (900, 'CM'), (500, 'D'), (400, 'CD'), (100, 'C'), (90, 'XC'),\n",
    "           (50, 'L'), (40, 'XL'), (10, 'X'), (9, 'IX'), (5, 'V'), (4, 'IV'), (1, 'I')]"
   ]
  },
  {
   "cell_type": "code",
   "execution_count": 58,
   "metadata": {},
   "outputs": [],
   "source": [
    "def check_user_input (input):\n",
    "    try:\n",
    "        # Convert it into integer\n",
    "        val = int(input)\n",
    "        print(\"Input is an integer number. Number = \", val)\n",
    "    except ValueError:\n",
    "        try:\n",
    "            # Convert it into float\n",
    "            val = float(input)\n",
    "            print(f\"Your input ({input}) must not contain decimals. Please try again.\")\n",
    "            return False\n",
    "        except ValueError:\n",
    "            print(f\"'{input}' is not a number, a string. Please try again.\")\n",
    "            return False"
   ]
  },
  {
   "cell_type": "code",
   "execution_count": 59,
   "metadata": {},
   "outputs": [],
   "source": [
    "def range_control (entry):\n",
    "    if int(entry) < 1:\n",
    "        print ('Sorry, is not in range. Please try again.')\n",
    "        return False\n",
    "    elif int(entry) > 3999:\n",
    "        print ('Sorry, is not in range. Please try again.')\n",
    "        return False\n",
    "    return True"
   ]
  },
  {
   "cell_type": "code",
   "execution_count": 60,
   "metadata": {},
   "outputs": [],
   "source": [
    "def num_to_roman (entry):\n",
    "    roman = ''\n",
    "\n",
    "    for i, r in num_map:\n",
    "        entry = int(entry)\n",
    "        while entry >= i:\n",
    "            roman += r\n",
    "            entry -= i\n",
    "    print (roman)"
   ]
  },
  {
   "cell_type": "code",
   "execution_count": 61,
   "metadata": {},
   "outputs": [
    {
     "name": "stdout",
     "output_type": "stream",
     "text": [
      "Sorry, is not in range. Please try again.\n",
      "Sorry, is not in range. Please try again.\n",
      "Sorry, is not in range. Please try again.\n",
      "Sorry, is not in range. Please try again.\n",
      "'asd' is not a number, a string. Please try again.\n",
      "CXXIII\n"
     ]
    }
   ],
   "source": [
    "while True:\n",
    "    entry = input('Please enter a number.')\n",
    "    roman = ''\n",
    "\n",
    "    if entry == 'Exit':\n",
    "        print ('Closing app.. Goodbye..')\n",
    "        break\n",
    "    elif entry.isdigit():\n",
    "        if range_control (entry) == True:\n",
    "            num_to_roman (entry)\n",
    "            break\n",
    "        else:\n",
    "            range_control (entry)\n",
    "    else:\n",
    "        check_user_input (entry)"
   ]
  }
 ],
 "metadata": {
  "kernelspec": {
   "display_name": "Python 3 (ipykernel)",
   "language": "python",
   "name": "python3"
  },
  "language_info": {
   "codemirror_mode": {
    "name": "ipython",
    "version": 3
   },
   "file_extension": ".py",
   "mimetype": "text/x-python",
   "name": "python",
   "nbconvert_exporter": "python",
   "pygments_lexer": "ipython3",
   "version": "3.11.5"
  }
 },
 "nbformat": 4,
 "nbformat_minor": 2
}
